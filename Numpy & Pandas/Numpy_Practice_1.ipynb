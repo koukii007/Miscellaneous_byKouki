{
  "nbformat": 4,
  "nbformat_minor": 0,
  "metadata": {
    "colab": {
      "name": "Numpy Practice 1.ipynb",
      "provenance": []
    },
    "kernelspec": {
      "name": "python3",
      "display_name": "Python 3"
    },
    "language_info": {
      "name": "python"
    }
  },
  "cells": [
    {
      "cell_type": "code",
      "execution_count": null,
      "metadata": {
        "id": "yCSr9Bt9VhN4"
      },
      "outputs": [],
      "source": [
        "import numpy as np"
      ]
    },
    {
      "cell_type": "code",
      "source": [
        "a = np.ones((4,3)).astype(\"int\")"
      ],
      "metadata": {
        "id": "PQPF1YpGV8x_"
      },
      "execution_count": null,
      "outputs": []
    },
    {
      "cell_type": "code",
      "source": [
        "a.shape\n"
      ],
      "metadata": {
        "colab": {
          "base_uri": "https://localhost:8080/"
        },
        "id": "fShvk88TWJ_2",
        "outputId": "45ee6cfc-86e7-4f9f-af26-a810c1e26a56"
      },
      "execution_count": null,
      "outputs": [
        {
          "output_type": "execute_result",
          "data": {
            "text/plain": [
              "(4, 3)"
            ]
          },
          "metadata": {},
          "execution_count": 12
        }
      ]
    },
    {
      "cell_type": "code",
      "source": [
        "len(a.shape)"
      ],
      "metadata": {
        "colab": {
          "base_uri": "https://localhost:8080/"
        },
        "id": "uX43f_QlW1nD",
        "outputId": "7f357abc-2e3e-424f-e993-b5077ac843a2"
      },
      "execution_count": null,
      "outputs": [
        {
          "output_type": "execute_result",
          "data": {
            "text/plain": [
              "2"
            ]
          },
          "metadata": {},
          "execution_count": 15
        }
      ]
    },
    {
      "cell_type": "code",
      "source": [
        "a.shape[0]*a.shape[1]"
      ],
      "metadata": {
        "colab": {
          "base_uri": "https://localhost:8080/"
        },
        "id": "V8YxTwQHXbEG",
        "outputId": "d3324697-e0d7-4077-faef-1d6034e4e5ab"
      },
      "execution_count": null,
      "outputs": [
        {
          "output_type": "execute_result",
          "data": {
            "text/plain": [
              "12"
            ]
          },
          "metadata": {},
          "execution_count": 14
        }
      ]
    },
    {
      "cell_type": "code",
      "source": [
        "a = np.array([1] * 12).reshape(4,3)"
      ],
      "metadata": {
        "id": "zRIekekuXj_9"
      },
      "execution_count": null,
      "outputs": []
    },
    {
      "cell_type": "code",
      "source": [
        "a"
      ],
      "metadata": {
        "colab": {
          "base_uri": "https://localhost:8080/"
        },
        "id": "T8Npb3jHX9Ld",
        "outputId": "950636e8-e883-4e13-9a64-644bdf147744"
      },
      "execution_count": null,
      "outputs": [
        {
          "output_type": "execute_result",
          "data": {
            "text/plain": [
              "array([[1, 1, 1],\n",
              "       [1, 1, 1],\n",
              "       [1, 1, 1],\n",
              "       [1, 1, 1]])"
            ]
          },
          "metadata": {},
          "execution_count": 17
        }
      ]
    },
    {
      "cell_type": "code",
      "source": [
        "b = np.array([\"rabbit\",\"wolf\"]*2*2).reshape(2,4)\n",
        "b"
      ],
      "metadata": {
        "colab": {
          "base_uri": "https://localhost:8080/"
        },
        "id": "J2mOXJsQX-ik",
        "outputId": "7fffbc10-d8b0-48a7-970d-f96e9ac06192"
      },
      "execution_count": null,
      "outputs": [
        {
          "output_type": "execute_result",
          "data": {
            "text/plain": [
              "array([['rabbit', 'wolf', 'rabbit', 'wolf'],\n",
              "       ['rabbit', 'wolf', 'rabbit', 'wolf']], dtype='<U6')"
            ]
          },
          "metadata": {},
          "execution_count": 22
        }
      ]
    },
    {
      "cell_type": "code",
      "source": [
        "b[(1,3)] = \"supercalifragilisticexpialidocious\"\n",
        "b"
      ],
      "metadata": {
        "colab": {
          "base_uri": "https://localhost:8080/"
        },
        "id": "voOOAeOUYUuf",
        "outputId": "61ea5a4a-4b3d-4d6a-875c-5735f59ee715"
      },
      "execution_count": null,
      "outputs": [
        {
          "output_type": "execute_result",
          "data": {
            "text/plain": [
              "array([['rabbit', 'wolf', 'rabbit', 'wolf'],\n",
              "       ['rabbit', 'wolf', 'rabbit', 'superc']], dtype='<U6')"
            ]
          },
          "metadata": {},
          "execution_count": 26
        }
      ]
    },
    {
      "cell_type": "code",
      "source": [
        "b = b.astype(\"<U40\")\n",
        "b"
      ],
      "metadata": {
        "colab": {
          "base_uri": "https://localhost:8080/"
        },
        "id": "MCG6cTN0Yt3E",
        "outputId": "98cbb438-cf54-4473-90e9-abd683eb85e2"
      },
      "execution_count": null,
      "outputs": [
        {
          "output_type": "execute_result",
          "data": {
            "text/plain": [
              "array([['rabbit', 'wolf', 'rabbit', 'wolf'],\n",
              "       ['rabbit', 'wolf', 'rabbit', 'supercalifragilisticexpialidoc']],\n",
              "      dtype='<U40')"
            ]
          },
          "metadata": {},
          "execution_count": 32
        }
      ]
    },
    {
      "cell_type": "code",
      "source": [
        "b[(1,3)] = \"supercalifragilisticexpialidocious\"\n",
        "b"
      ],
      "metadata": {
        "colab": {
          "base_uri": "https://localhost:8080/"
        },
        "id": "g0WDD8DiZPvv",
        "outputId": "6ab95660-c5be-471f-bb7e-93757a896999"
      },
      "execution_count": null,
      "outputs": [
        {
          "output_type": "execute_result",
          "data": {
            "text/plain": [
              "array([['rabbit', 'wolf', 'rabbit', 'wolf'],\n",
              "       ['rabbit', 'wolf', 'rabbit', 'supercalifragilisticexpialidocious']],\n",
              "      dtype='<U40')"
            ]
          },
          "metadata": {},
          "execution_count": 33
        }
      ]
    },
    {
      "cell_type": "code",
      "source": [
        "a"
      ],
      "metadata": {
        "colab": {
          "base_uri": "https://localhost:8080/"
        },
        "id": "l0xlZu6SZT50",
        "outputId": "968b625f-66bf-464e-d992-78c14edd1c0c"
      },
      "execution_count": null,
      "outputs": [
        {
          "output_type": "execute_result",
          "data": {
            "text/plain": [
              "array([[1, 1, 1],\n",
              "       [1, 1, 1],\n",
              "       [1, 1, 1],\n",
              "       [1, 1, 1]])"
            ]
          },
          "metadata": {},
          "execution_count": 34
        }
      ]
    },
    {
      "cell_type": "code",
      "source": [
        "a[:,2]"
      ],
      "metadata": {
        "colab": {
          "base_uri": "https://localhost:8080/"
        },
        "id": "2XBPKOi7aEnY",
        "outputId": "61177d20-3969-40a5-d1a7-f8c8dfdd8bb1"
      },
      "execution_count": null,
      "outputs": [
        {
          "output_type": "execute_result",
          "data": {
            "text/plain": [
              "array([1, 1, 1, 1])"
            ]
          },
          "metadata": {},
          "execution_count": 40
        }
      ]
    },
    {
      "cell_type": "code",
      "source": [
        "a[:,2] = 10\n",
        "a"
      ],
      "metadata": {
        "colab": {
          "base_uri": "https://localhost:8080/"
        },
        "id": "EWrJJcS_aSf2",
        "outputId": "9551a9ef-f866-4206-a8dc-d87259687a7d"
      },
      "execution_count": null,
      "outputs": [
        {
          "output_type": "execute_result",
          "data": {
            "text/plain": [
              "array([[ 1,  1, 10],\n",
              "       [ 1,  1, 10],\n",
              "       [ 1,  1, 10],\n",
              "       [ 1,  1, 10]])"
            ]
          },
          "metadata": {},
          "execution_count": 42
        }
      ]
    },
    {
      "cell_type": "code",
      "source": [
        "a[:,-1] = 15\n",
        "a"
      ],
      "metadata": {
        "colab": {
          "base_uri": "https://localhost:8080/"
        },
        "id": "yBp4shV8akQK",
        "outputId": "f46feb2a-673a-4383-808d-a47aa37fbcff"
      },
      "execution_count": null,
      "outputs": [
        {
          "output_type": "execute_result",
          "data": {
            "text/plain": [
              "array([[ 1,  1, 15],\n",
              "       [ 1,  1, 15],\n",
              "       [ 1,  1, 15],\n",
              "       [ 1,  1, 15]])"
            ]
          },
          "metadata": {},
          "execution_count": 43
        }
      ]
    },
    {
      "cell_type": "code",
      "source": [
        "a[1,:2] = 2\n",
        "a"
      ],
      "metadata": {
        "colab": {
          "base_uri": "https://localhost:8080/"
        },
        "id": "qfvfjTPAarTJ",
        "outputId": "82f4d448-fc20-4e82-94f6-0c73019cc01e"
      },
      "execution_count": null,
      "outputs": [
        {
          "output_type": "execute_result",
          "data": {
            "text/plain": [
              "array([[ 1,  1, 15],\n",
              "       [ 2,  2, 15],\n",
              "       [ 1,  1, 15],\n",
              "       [ 1,  1, 15]])"
            ]
          },
          "metadata": {},
          "execution_count": 44
        }
      ]
    },
    {
      "cell_type": "code",
      "source": [
        "a[-1,-1] = a[-1,-1]*a[-1,-1]\n",
        "a"
      ],
      "metadata": {
        "colab": {
          "base_uri": "https://localhost:8080/"
        },
        "id": "kcH5vRK1azkC",
        "outputId": "b604b717-3a9b-4dfd-98ea-45e4dc41d951"
      },
      "execution_count": null,
      "outputs": [
        {
          "output_type": "execute_result",
          "data": {
            "text/plain": [
              "array([[    1,     1,    15],\n",
              "       [    2,     2,    15],\n",
              "       [    1,     1,    15],\n",
              "       [    1,     1, 50625]])"
            ]
          },
          "metadata": {},
          "execution_count": 46
        }
      ]
    },
    {
      "cell_type": "code",
      "source": [
        ""
      ],
      "metadata": {
        "id": "-C_rfV-ma-8j"
      },
      "execution_count": null,
      "outputs": []
    }
  ]
}